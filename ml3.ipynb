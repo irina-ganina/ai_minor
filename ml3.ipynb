{
  "nbformat": 4,
  "nbformat_minor": 0,
  "metadata": {
    "colab": {
      "provenance": []
    },
    "kernelspec": {
      "name": "python3",
      "display_name": "Python 3"
    },
    "language_info": {
      "name": "python"
    }
  },
  "cells": [
    {
      "cell_type": "code",
      "execution_count": 1,
      "metadata": {
        "id": "qk2yNRzX_9ki"
      },
      "outputs": [],
      "source": [
        "import pandas as pd\n",
        "import numpy as np\n",
        "import matplotlib.pyplot as plt\n",
        "import seaborn as sns\n",
        "from sklearn.model_selection import train_test_split\n",
        "from sklearn.dummy import DummyClassifier\n",
        "from sklearn.metrics import accuracy_score, classification_report\n",
        "import warnings\n",
        "warnings.filterwarnings(\"ignore\")"
      ]
    },
    {
      "cell_type": "code",
      "source": [
        "# Загрузка данных\n",
        "train = pd.read_csv('/content/train_data.csv')\n",
        "test = pd.read_csv('/content/test_data.csv')\n",
        "sam_sub = pd.read_csv('/content/sample_submission_data.csv')"
      ],
      "metadata": {
        "id": "WPqZcXZuAxl_"
      },
      "execution_count": 2,
      "outputs": []
    },
    {
      "cell_type": "code",
      "source": [
        "# Предобработка данных\n",
        "categorical_cols = train.select_dtypes(include=['object']).columns.intersection(test.columns)\n",
        "for col in categorical_cols:\n",
        "    train[col].fillna(train[col].mode()[0], inplace=True)\n",
        "    test[col].fillna(test[col].mode()[0], inplace=True)"
      ],
      "metadata": {
        "id": "EA66ILR-A0ce"
      },
      "execution_count": 3,
      "outputs": []
    },
    {
      "cell_type": "code",
      "source": [
        "# Заполнение пропусков для числовых колонок\n",
        "numeric_cols = [col for col in train.select_dtypes(include=['float64', 'int64']).columns if col in test.columns]\n",
        "\n",
        "train[numeric_cols] = train[numeric_cols].fillna(train[numeric_cols].mean())\n",
        "test[numeric_cols] = test[numeric_cols].fillna(test[numeric_cols].mean())"
      ],
      "metadata": {
        "id": "AJ4FldqAA4tJ"
      },
      "execution_count": 4,
      "outputs": []
    },
    {
      "cell_type": "code",
      "source": [
        "# Кодирование категориальных переменных\n",
        "train = pd.get_dummies(train, drop_first=True)\n",
        "test = pd.get_dummies(test, drop_first=True)\n",
        "# Убедимся, что тестовый набор имеет те же колонки, что и тренировочный\n",
        "test = test.reindex(columns=train.columns, fill_value=0)\n",
        "# Определение признаков и целевой переменной\n",
        "X = train.drop('Depression', axis=1)\n",
        "y = train['Depression']"
      ],
      "metadata": {
        "id": "MUInI9JVCfU7"
      },
      "execution_count": 9,
      "outputs": []
    },
    {
      "cell_type": "code",
      "source": [
        "!pip install optuna"
      ],
      "metadata": {
        "colab": {
          "base_uri": "https://localhost:8080/"
        },
        "id": "AmoQ8zKtBnZi",
        "outputId": "a6d0041d-c64f-4f4d-ed54-1f990bb24e8d"
      },
      "execution_count": 7,
      "outputs": [
        {
          "output_type": "stream",
          "name": "stdout",
          "text": [
            "Collecting optuna\n",
            "  Downloading optuna-4.3.0-py3-none-any.whl.metadata (17 kB)\n",
            "Collecting alembic>=1.5.0 (from optuna)\n",
            "  Downloading alembic-1.15.2-py3-none-any.whl.metadata (7.3 kB)\n",
            "Collecting colorlog (from optuna)\n",
            "  Downloading colorlog-6.9.0-py3-none-any.whl.metadata (10 kB)\n",
            "Requirement already satisfied: numpy in /usr/local/lib/python3.11/dist-packages (from optuna) (2.0.2)\n",
            "Requirement already satisfied: packaging>=20.0 in /usr/local/lib/python3.11/dist-packages (from optuna) (24.2)\n",
            "Requirement already satisfied: sqlalchemy>=1.4.2 in /usr/local/lib/python3.11/dist-packages (from optuna) (2.0.40)\n",
            "Requirement already satisfied: tqdm in /usr/local/lib/python3.11/dist-packages (from optuna) (4.67.1)\n",
            "Requirement already satisfied: PyYAML in /usr/local/lib/python3.11/dist-packages (from optuna) (6.0.2)\n",
            "Requirement already satisfied: Mako in /usr/lib/python3/dist-packages (from alembic>=1.5.0->optuna) (1.1.3)\n",
            "Requirement already satisfied: typing-extensions>=4.12 in /usr/local/lib/python3.11/dist-packages (from alembic>=1.5.0->optuna) (4.13.2)\n",
            "Requirement already satisfied: greenlet>=1 in /usr/local/lib/python3.11/dist-packages (from sqlalchemy>=1.4.2->optuna) (3.2.1)\n",
            "Downloading optuna-4.3.0-py3-none-any.whl (386 kB)\n",
            "\u001b[2K   \u001b[90m━━━━━━━━━━━━━━━━━━━━━━━━━━━━━━━━━━━━━━━━\u001b[0m \u001b[32m386.6/386.6 kB\u001b[0m \u001b[31m8.5 MB/s\u001b[0m eta \u001b[36m0:00:00\u001b[0m\n",
            "\u001b[?25hDownloading alembic-1.15.2-py3-none-any.whl (231 kB)\n",
            "\u001b[2K   \u001b[90m━━━━━━━━━━━━━━━━━━━━━━━━━━━━━━━━━━━━━━━━\u001b[0m \u001b[32m231.9/231.9 kB\u001b[0m \u001b[31m14.3 MB/s\u001b[0m eta \u001b[36m0:00:00\u001b[0m\n",
            "\u001b[?25hDownloading colorlog-6.9.0-py3-none-any.whl (11 kB)\n",
            "Installing collected packages: colorlog, alembic, optuna\n",
            "Successfully installed alembic-1.15.2 colorlog-6.9.0 optuna-4.3.0\n"
          ]
        }
      ]
    },
    {
      "cell_type": "code",
      "source": [
        "from sklearn.model_selection import train_test_split\n",
        "from xgboost import XGBClassifier\n",
        "from sklearn.metrics import accuracy_score, classification_report, roc_auc_score\n",
        "import xgboost as xgb\n",
        "import optuna\n",
        "from sklearn.preprocessing import StandardScaler"
      ],
      "metadata": {
        "id": "cydPsHrMA7CV"
      },
      "execution_count": 8,
      "outputs": []
    },
    {
      "cell_type": "code",
      "source": [
        "X_train, X_test, y_train, y_test = train_test_split(X, y, test_size=0.2, random_state=607)\n",
        "\n",
        "def objective(trial):\n",
        "    colsample_bytree= trial.suggest_float('colsample_bytree',0,1)\n",
        "    n_estimators = trial.suggest_int('n_estimators', 400,1000)\n",
        "    learning_rate = trial.suggest_float('learning_rate', 0.01,0.1)\n",
        "    reg_lambda = trial.suggest_float('reg_lambda', 0,4)\n",
        "    reg_alpha = trial.suggest_float('reg_alpha', 0,4)\n",
        "    max_depth = trial.suggest_int('max_depth', 2,10)\n",
        "    gamma = trial.suggest_float('gamma', 0,0.5)\n",
        "    eval_metric='auc'\n",
        "\n",
        "    model = XGBClassifier(\n",
        "    colsample_bytree = colsample_bytree,\n",
        "    n_estimators=n_estimators,\n",
        "    learning_rate=learning_rate,\n",
        "    max_depth=max_depth,\n",
        "    reg_alpha=reg_alpha,\n",
        "    reg_lambda=reg_lambda,\n",
        "    gamma=gamma,\n",
        "    eval_metric='auc',\n",
        "    random_state=607\n",
        ")\n",
        "    model.fit(X_train, y_train)\n",
        "    score = roc_auc_score(y_test, model.predict_proba(X_test)[:, 1])\n",
        "\n",
        "    return score"
      ],
      "metadata": {
        "id": "bj816DWQCMvj"
      },
      "execution_count": 10,
      "outputs": []
    },
    {
      "cell_type": "code",
      "source": [
        "study = optuna.create_study(direction='maximize',sampler=optuna.samplers.RandomSampler(seed=607))\n",
        "optuna.logging.set_verbosity(optuna.logging.WARNING)\n",
        "\n",
        "def log_best_trial(study, trial):\n",
        "    if study.best_trial == trial:\n",
        "        print(f\"New best trial: {trial.number} with value: {trial.value} and params: {trial.params}\")\n",
        "\n",
        "\n",
        "study.optimize(objective, n_trials=100,callbacks=[log_best_trial])"
      ],
      "metadata": {
        "colab": {
          "base_uri": "https://localhost:8080/"
        },
        "id": "iGsqAcKzCs8x",
        "outputId": "14ba65e3-5e3e-4d5a-8631-2c4b71b747b2"
      },
      "execution_count": null,
      "outputs": [
        {
          "metadata": {
            "tags": null
          },
          "name": "stderr",
          "output_type": "stream",
          "text": [
            "[I 2025-05-08 17:56:45,261] A new study created in memory with name: no-name-0151bd25-5fe3-48e2-8ec1-8557aabe6c4f\n"
          ]
        },
        {
          "output_type": "stream",
          "name": "stdout",
          "text": [
            "New best trial: 0 with value: 0.9730517568312002 and params: {'colsample_bytree': 0.9241441149445456, 'n_estimators': 480, 'learning_rate': 0.01934695515938726, 'reg_lambda': 0.995746986500277, 'reg_alpha': 0.7922495581786353, 'max_depth': 3, 'gamma': 0.00960148482380424}\n",
            "New best trial: 1 with value: 0.9750513415719075 and params: {'colsample_bytree': 0.1621141939217663, 'n_estimators': 866, 'learning_rate': 0.01830911692556304, 'reg_lambda': 2.9106714720433975, 'reg_alpha': 2.3081746881941307, 'max_depth': 8, 'gamma': 0.2014396057468147}\n",
            "New best trial: 3 with value: 0.9752241286429882 and params: {'colsample_bytree': 0.14492566230028125, 'n_estimators': 714, 'learning_rate': 0.0638419910172031, 'reg_lambda': 0.799541013102012, 'reg_alpha': 2.5068192947954713, 'max_depth': 8, 'gamma': 0.2743399323353837}\n",
            "New best trial: 6 with value: 0.9752544504773071 and params: {'colsample_bytree': 0.1644800532756021, 'n_estimators': 654, 'learning_rate': 0.06302637503740172, 'reg_lambda': 0.8524760019100182, 'reg_alpha': 3.754808385795471, 'max_depth': 5, 'gamma': 0.2215562152216386}\n",
            "New best trial: 23 with value: 0.9752855962049137 and params: {'colsample_bytree': 0.15329872452478288, 'n_estimators': 638, 'learning_rate': 0.05989998925051522, 'reg_lambda': 2.4838773936798604, 'reg_alpha': 2.1612367137777087, 'max_depth': 8, 'gamma': 0.0950767288551409}\n",
            "New best trial: 34 with value: 0.9753828113440014 and params: {'colsample_bytree': 0.0958871841005362, 'n_estimators': 843, 'learning_rate': 0.08000905616080559, 'reg_lambda': 3.291378479375312, 'reg_alpha': 0.2978198706515829, 'max_depth': 3, 'gamma': 0.01591794842638572}\n"
          ]
        }
      ]
    },
    {
      "cell_type": "code",
      "source": [
        "best_params = study.best_params\n",
        "best_score = study.best_value\n",
        "print(f\"Best Hyperparameters: {best_params}\")\n",
        "print(f\"Best Accuracy: {best_score:.6f}\")"
      ],
      "metadata": {
        "id": "tE1o4lZqEUhM"
      },
      "execution_count": null,
      "outputs": []
    },
    {
      "cell_type": "code",
      "source": [
        "optuna.visualization.plot_param_importances(study)"
      ],
      "metadata": {
        "id": "ZIYk6tQAEZtO"
      },
      "execution_count": null,
      "outputs": []
    },
    {
      "cell_type": "code",
      "source": [
        "best_params = study.best_params\n",
        "best_score = study.best_value\n",
        "print(f\"Best Hyperparameters: {best_params}\")\n",
        "print(f\"Best Accuracy: {best_score:.6f}\")\n",
        "\n",
        "n_estimators = best_params['n_estimators']\n",
        "reg_alpha = best_params['reg_alpha']\n",
        "learning_rate = best_params['learning_rate']\n",
        "reg_lambda = best_params['reg_lambda']\n",
        "max_depth = best_params['max_depth']\n",
        "colsample_bytree = best_params['colsample_bytree']\n",
        "gamma = best_params['gamma']"
      ],
      "metadata": {
        "id": "U5kctZbrEa3-"
      },
      "execution_count": null,
      "outputs": []
    },
    {
      "cell_type": "code",
      "source": [
        "best_xgb=XGBClassifier(\n",
        "    colsample_bytree = colsample_bytree,\n",
        "    n_estimators = n_estimators,\n",
        "    learning_rate = learning_rate,\n",
        "    reg_alpha = reg_alpha,\n",
        "    reg_lambda = reg_lambda,\n",
        "    max_depth = max_depth,\n",
        "    gamma=gamma,\n",
        "    eval_metric='auc',\n",
        "    random_state=607\n",
        ")\n",
        "\n",
        "eval_set = [(X_train, y_train), (X_test, y_test)]\n",
        "\n",
        "best_xgb.fit(X_train,y_train,eval_set=eval_set,verbose=False)\n",
        "\n",
        "y_pred = best_xgb.predict(X_test)\n",
        "\n",
        "accuracy = accuracy_score(y_test, y_pred)\n",
        "print(f'accuracy: {accuracy:.4f}')\n",
        "print(classification_report(y_test, y_pred))\n",
        "roc_auc = roc_auc_score(y_test, best_xgb.predict_proba(X_test)[:, 1])\n",
        "print(roc_auc)"
      ],
      "metadata": {
        "id": "iBMhQ3FlEdIP"
      },
      "execution_count": null,
      "outputs": []
    },
    {
      "cell_type": "code",
      "source": [
        "feature_importance = pd.DataFrame({\n",
        "    'Feature': train.columns,\n",
        "    'Importance': best_xgb.feature_importances_\n",
        "})\n",
        "\n",
        "feature_importance = feature_importance.sort_values(by='Importance', ascending=False)\n",
        "\n",
        "plt.figure(figsize=(10, 6))\n",
        "plt.barh(feature_importance['Feature'], feature_importance['Importance'])\n",
        "plt.xlabel('Importance')\n",
        "plt.title('Feature Importances')\n",
        "plt.gca().invert_yaxis()\n",
        "plt.show()"
      ],
      "metadata": {
        "id": "seziRPFIEeyR"
      },
      "execution_count": null,
      "outputs": []
    },
    {
      "cell_type": "code",
      "source": [
        "results = best_xgb.evals_result()\n",
        "\n",
        "epochs = len(results['validation_0']['auc'])\n",
        "x_axis = range(0, epochs)\n",
        "\n",
        "plt.figure(figsize=(8,4))\n",
        "plt.plot(x_axis, results['validation_0']['auc'], label='Train AUC')\n",
        "plt.plot(x_axis, results['validation_1']['auc'], label='Test AUC')\n",
        "plt.xlabel('Epochs')\n",
        "plt.ylabel('AUC')\n",
        "plt.title('XGBoost AUC Learning Curve')\n",
        "plt.legend()\n",
        "plt.grid(True)\n",
        "plt.show()"
      ],
      "metadata": {
        "id": "GzmyR_XuEgSn"
      },
      "execution_count": null,
      "outputs": []
    },
    {
      "cell_type": "code",
      "source": [
        "x_test_df = test[X_train.columns]\n",
        "\n",
        "y_test_pred = best_xgb.predict(x_test_df)\n",
        "\n",
        "test['predicted'] = y_test_pred\n",
        "\n",
        "print(test[['predicted']])"
      ],
      "metadata": {
        "id": "Pr0HhawXEh7A"
      },
      "execution_count": null,
      "outputs": []
    },
    {
      "cell_type": "code",
      "source": [
        "sub[\"id\"]=id_col_test\n",
        "sub[\"Depression\"]=test['predicted']\n",
        "sub.to_csv('submission.csv', index=False)\n",
        "print(sub)\n",
        "sub.info()"
      ],
      "metadata": {
        "id": "CevGo_wYEjWp"
      },
      "execution_count": null,
      "outputs": []
    }
  ]
}